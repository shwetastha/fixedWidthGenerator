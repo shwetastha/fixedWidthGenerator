{
 "cells": [
  {
   "cell_type": "markdown",
   "metadata": {},
   "source": [
    "Fixed Width File Generator\n",
    "====================\n",
    "\n",
    "### Output\n",
    "\n",
    "Fixed width file generated.\n",
    "- **File:** output/loan_pilot_fixed_width.prn\n"
   ]
  },
  {
   "cell_type": "code",
   "execution_count": 12,
   "metadata": {},
   "outputs": [],
   "source": [
    "#output path\n",
    "fixed_width_file = 'output/f.prn'\n",
    "#input\n",
    "config_file = 'input/layout.csv' #semicolon delimited layout file.\n",
    "config_json = 'input/config.json'\n",
    "layout_config = {} #Config Dictionary with field name and size."
   ]
  },
  {
   "cell_type": "markdown",
   "metadata": {},
   "source": [
    "### Input\n",
    "\n",
    "+ Config file has the details of the field size.\n",
    "    - **File:** input/config.json or input/layout.csv\n",
    "    - **Values:**\n",
    "        - FIELD: Field name same as in the table\n",
    "        - TYPE: \"REQUIRED\"/\"OPTIONAL\"/\"RESERVED\"\n",
    "        - FROM: Starting position\n",
    "        - TO: Ending position\n",
    "        - SIZE: Width of the field\n",
    "+ Data is in the BQ.\n",
    "    - **Project:** 'koho-staging'\n",
    "    - **Table Name:** 'staging_app_koho_ca.loan_pilot'\n",
    "\n"
   ]
  },
  {
   "cell_type": "code",
   "execution_count": 13,
   "metadata": {},
   "outputs": [],
   "source": [
    "#input\n",
    "config_file = 'input/layout.csv' #semicolon delimited layout file.\n",
    "config_json = 'input/config.json'\n",
    "layout_config = {} #Config Dictionary with field name and size.\n",
    "\n",
    "project_id = '*'\n",
    "table_name = '*'"
   ]
  },
  {
   "cell_type": "markdown",
   "metadata": {},
   "source": [
    "### Config file in CSV format"
   ]
  },
  {
   "cell_type": "code",
   "execution_count": 32,
   "metadata": {},
   "outputs": [],
   "source": [
    "import csv\n",
    "def getLayoutCSV():\n",
    "    with open(config_file) as csv_file:\n",
    "        csv_reader = csv.DictReader(csv_file, delimiter=';')\n",
    "        line_count = 0\n",
    "        for row in csv_reader:\n",
    "            if line_count == 0:\n",
    "                print(f'Column names are {\"; \".join(row)}')\n",
    "                line_count += 1\n",
    "            line_count += 1\n",
    "            layout_config[row[\"REF\"]] = row\n",
    "        field_count = int(row[\"REF\"])\n",
    "        print(f'Processed {line_count} lines.')"
   ]
  },
  {
   "cell_type": "markdown",
   "metadata": {},
   "source": [
    "### Config file in JSON format"
   ]
  },
  {
   "cell_type": "code",
   "execution_count": 35,
   "metadata": {},
   "outputs": [],
   "source": [
    "import json\n",
    "def getLayoutJSON():\n",
    "    with open(config_json) as csv_file:\n",
    "        layout = json.load(csv_file)        \n",
    "        print('Field Count: '+ str(len(layout)))\n",
    "        field_count = len(layout)\n",
    "        print('Field Names: '+ str(layout.keys()))\n",
    "    return layout"
   ]
  },
  {
   "cell_type": "markdown",
   "metadata": {},
   "source": [
    "### Fixed width Reader\n",
    "Function to read fixed width file using the config file in the *input* folder. This function writes out the fixed width file to CSV format."
   ]
  },
  {
   "cell_type": "code",
   "execution_count": 16,
   "metadata": {},
   "outputs": [],
   "source": [
    "def convertPRNtoCSV():\n",
    "    with open('d.csv', 'w') as loan_csv:\n",
    "        with open('f.prn') as prn_file:\n",
    "            for line in prn_file:\n",
    "                for ref in layout_config:\n",
    "                    loan_csv.write(line[int(layout_config[ref]['FROM'])-1:int(layout_config[ref]['TO'])].strip())\n",
    "\n",
    "                    print(line[int(layout_config[ref]['FROM'])-1:int(layout_config[ref]['TO'])].strip(), end='')\n",
    "                    if(int(ref) < field_count):\n",
    "                        loan_csv.write(';')\n",
    "                        print(';',end='')\n",
    "                print()\n",
    "                loan_csv.write('\\n')\n",
    "        "
   ]
  },
  {
   "cell_type": "markdown",
   "metadata": {},
   "source": [
    "### Function to format values\n",
    "This function checks if the values are null or not and adds the required spaces to convert the value to the required width."
   ]
  },
  {
   "cell_type": "code",
   "execution_count": 17,
   "metadata": {},
   "outputs": [],
   "source": [
    "def string_check(str, width):\n",
    "    if(str == None):\n",
    "        return ' '.ljust(width, ' ')\n",
    "    else:\n",
    "        return str.ljust(width, ' ')"
   ]
  },
  {
   "cell_type": "markdown",
   "metadata": {},
   "source": [
    "### Read data \n",
    "The data is read from the provided table in BQ, which returns a dataframe."
   ]
  },
  {
   "cell_type": "code",
   "execution_count": 28,
   "metadata": {},
   "outputs": [],
   "source": [
    "import pandas_gbq as pgbq\n",
    "\n",
    "def readDataFromBQ():\n",
    "    query = \"select * from {}\".format(table_name)\n",
    "    print('Reading data from bigquery.')\n",
    "    print('Project: '+project_id)\n",
    "    print('Table: '+table_name)\n",
    "    loan_pilot = pgbq.read_gbq(query, project_id, dialect='standard')\n",
    "    count = loan_pilot['CUSTOMER_REFERENCE_NUMBER'].count()\n",
    "    print('Row Count: '+ str(count))\n",
    "    print('Data Read Completed.')\n",
    "    return loan_pilot"
   ]
  },
  {
   "cell_type": "markdown",
   "metadata": {},
   "source": [
    "### Prepare Header and Trailer\n",
    "\n",
    "Use the hardcoded values provided by the client:\n",
    "- header_prefix\n",
    "- trailer_prefix\n",
    "- client_id\n",
    "- process_id\n",
    "\n",
    "Get the date time of this processing\n",
    "- date_time\n",
    "\n",
    "For trailer, also include the record count value with width 8.\n",
    "- eg: 00000010"
   ]
  },
  {
   "cell_type": "code",
   "execution_count": 19,
   "metadata": {},
   "outputs": [],
   "source": [
    "from datetime import datetime\n",
    "today = datetime.now()\n",
    "# yyyymmddhhmmss\n",
    "date_time = today.strftime(\"%Y%m%d%H%M%S\")\n",
    "\n",
    "header_prefix = 'HDR'\n",
    "trailer_prefix = 'TRL'\n",
    "client_id = 'MOBL'\n",
    "process_id = 'CONTACTP'\n",
    "\n",
    "def getHeader():\n",
    "    header_value = header_prefix + date_time + client_id + process_id \n",
    "    return header_value\n",
    "\n",
    "def getTrailer(record_count):\n",
    "    #recordcount width is 8 here.\n",
    "    trailer_value = trailer_prefix + date_time + client_id + process_id +str(record_count).rjust(8,'0')\n",
    "    return trailer_value"
   ]
  },
  {
   "cell_type": "markdown",
   "metadata": {},
   "source": [
    "### Write the Fixed Width File\n"
   ]
  },
  {
   "cell_type": "code",
   "execution_count": 30,
   "metadata": {},
   "outputs": [],
   "source": [
    "def writeDataInFixedWidth(loan_pilot):\n",
    "    record_count =0\n",
    "#     print('Starting to write in file: '+fixed_width_file)\n",
    "    print('Writing to fixed width file.')\n",
    "    with open(fixed_width_file, 'w') as fw_file:\n",
    "        #header\n",
    "        fw_file.write(getHeader())\n",
    "        fw_file.write('\\n')\n",
    "        for i in loan_pilot.index:\n",
    "            for ref in layout_config:\n",
    "                fw_file.write(string_check(loan_pilot.loc[i][layout_config[ref]['FIELD']], int(layout_config[ref]['SIZE'])))\n",
    "            fw_file.write('\\n')\n",
    "            record_count = record_count + 1\n",
    "        #trailer\n",
    "        fw_file.write(getTrailer(record_count))\n",
    "    print('Record Count: '+ str(record_count))\n",
    "    print('Fixed Width Write Completed.')"
   ]
  },
  {
   "cell_type": "code",
   "execution_count": 36,
   "metadata": {},
   "outputs": [
    {
     "name": "stdout",
     "output_type": "stream",
     "text": [
      "Field Count: 15\n"
     ]
    }
   ],
   "source": [
    "layout_config = getLayoutJSON()"
   ]
  },
  {
   "cell_type": "code",
   "execution_count": 29,
   "metadata": {},
   "outputs": [
    {
     "name": "stdout",
     "output_type": "stream",
     "text": [
      "Reading data from bigquery.\n",
      "Row Count: 5987\n",
      "Data Read Completed.\n"
     ]
    }
   ],
   "source": [
    "loan_pilot = readDataFromBQ()"
   ]
  },
  {
   "cell_type": "code",
   "execution_count": 31,
   "metadata": {},
   "outputs": [
    {
     "name": "stdout",
     "output_type": "stream",
     "text": [
      "Writing to fixed width file.\n",
      "Record Count: 5987\n",
      "Fixed Width Write Completed.\n"
     ]
    }
   ],
   "source": [
    "writeDataInFixedWidth(loan_pilot)"
   ]
  }
 ],
 "metadata": {
  "kernelspec": {
   "display_name": "Python 3",
   "language": "python",
   "name": "python3"
  },
  "language_info": {
   "codemirror_mode": {
    "name": "ipython",
    "version": 3
   },
   "file_extension": ".py",
   "mimetype": "text/x-python",
   "name": "python",
   "nbconvert_exporter": "python",
   "pygments_lexer": "ipython3",
   "version": "3.7.3"
  }
 },
 "nbformat": 4,
 "nbformat_minor": 2
}
